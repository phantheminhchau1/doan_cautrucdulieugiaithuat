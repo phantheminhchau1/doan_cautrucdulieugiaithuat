{
 "cells": [
  {
   "cell_type": "code",
   "execution_count": 2,
   "metadata": {},
   "outputs": [
    {
     "name": "stdout",
     "output_type": "stream",
     "text": [
      "[1, 1, 2, 2, 3, 12, 34, 34, 42, 45, 124, 434, 533]\n"
     ]
    }
   ],
   "source": [
    "def insertion_sort(nums):\n",
    "    # Start on the second element as we assume the first element is sorted\n",
    "    for i in range(1, len(nums)):\n",
    "        item_to_insert = nums[i]\n",
    "        # And keep a reference of the index of the previous element\n",
    "        j = i - 1\n",
    "        # Move all items of the sorted segment forward if they are larger than\n",
    "        # the item to insert\n",
    "        while j >= 0 and nums[j] > item_to_insert:\n",
    "            nums[j + 1] = nums[j]\n",
    "            j -= 1\n",
    "        # Insert the item\n",
    "        nums[j + 1] = item_to_insert\n",
    "\n",
    "\n",
    "# Verify it works\n",
    "random_list_of_nums = [12,434,533,42,2,124,45,1,1,2,34,3,34]\n",
    "insertion_sort(random_list_of_nums)\n",
    "print(random_list_of_nums) "
   ]
  },
  {
   "cell_type": "code",
   "execution_count": null,
   "metadata": {},
   "outputs": [],
   "source": []
  }
 ],
 "metadata": {
  "kernelspec": {
   "display_name": "Python 3",
   "language": "python",
   "name": "python3"
  },
  "language_info": {
   "codemirror_mode": {
    "name": "ipython",
    "version": 3
   },
   "file_extension": ".py",
   "mimetype": "text/x-python",
   "name": "python",
   "nbconvert_exporter": "python",
   "pygments_lexer": "ipython3",
   "version": "3.8.3"
  }
 },
 "nbformat": 4,
 "nbformat_minor": 4
}
